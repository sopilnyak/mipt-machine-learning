{
 "cells": [
  {
   "cell_type": "markdown",
   "metadata": {},
   "source": [
    "## Определение слов, являющихся фамилиями"
   ]
  },
  {
   "cell_type": "code",
   "execution_count": 1,
   "metadata": {
    "collapsed": false
   },
   "outputs": [],
   "source": [
    "import numpy as np\n",
    "import pandas as pd\n",
    "from sklearn import svm\n",
    "from sklearn.linear_model import LogisticRegression, SGDClassifier\n",
    "from sklearn.feature_extraction.text import CountVectorizer, TfidfTransformer, TfidfVectorizer\n",
    "from sklearn.feature_extraction import DictVectorizer\n",
    "from sklearn.pipeline import Pipeline\n",
    "from sklearn.model_selection import cross_val_score\n",
    "from nltk.stem.snowball import RussianStemmer"
   ]
  },
  {
   "cell_type": "markdown",
   "metadata": {},
   "source": [
    "Читаем из файла обучающую выборку."
   ]
  },
  {
   "cell_type": "code",
   "execution_count": 17,
   "metadata": {
    "collapsed": false
   },
   "outputs": [
    {
     "data": {
      "text/html": [
       "<div>\n",
       "<table border=\"1\" class=\"dataframe\">\n",
       "  <thead>\n",
       "    <tr style=\"text-align: right;\">\n",
       "      <th></th>\n",
       "      <th>words</th>\n",
       "      <th>target</th>\n",
       "    </tr>\n",
       "  </thead>\n",
       "  <tbody>\n",
       "    <tr>\n",
       "      <th>0</th>\n",
       "      <td>Аалтонен</td>\n",
       "      <td>1</td>\n",
       "    </tr>\n",
       "    <tr>\n",
       "      <th>1</th>\n",
       "      <td>Аар</td>\n",
       "      <td>0</td>\n",
       "    </tr>\n",
       "    <tr>\n",
       "      <th>2</th>\n",
       "      <td>Аарон</td>\n",
       "      <td>0</td>\n",
       "    </tr>\n",
       "    <tr>\n",
       "      <th>3</th>\n",
       "      <td>ААРОН</td>\n",
       "      <td>0</td>\n",
       "    </tr>\n",
       "    <tr>\n",
       "      <th>4</th>\n",
       "      <td>Аарона</td>\n",
       "      <td>0</td>\n",
       "    </tr>\n",
       "    <tr>\n",
       "      <th>5</th>\n",
       "      <td>Аарона</td>\n",
       "      <td>1</td>\n",
       "    </tr>\n",
       "    <tr>\n",
       "      <th>6</th>\n",
       "      <td>Аароне</td>\n",
       "      <td>0</td>\n",
       "    </tr>\n",
       "    <tr>\n",
       "      <th>7</th>\n",
       "      <td>Ааронов</td>\n",
       "      <td>0</td>\n",
       "    </tr>\n",
       "    <tr>\n",
       "      <th>8</th>\n",
       "      <td>Аахена</td>\n",
       "      <td>0</td>\n",
       "    </tr>\n",
       "    <tr>\n",
       "      <th>9</th>\n",
       "      <td>Абабков</td>\n",
       "      <td>1</td>\n",
       "    </tr>\n",
       "  </tbody>\n",
       "</table>\n",
       "</div>"
      ],
      "text/plain": [
       "      words  target\n",
       "0  Аалтонен       1\n",
       "1       Аар       0\n",
       "2     Аарон       0\n",
       "3     ААРОН       0\n",
       "4    Аарона       0\n",
       "5    Аарона       1\n",
       "6    Аароне       0\n",
       "7   Ааронов       0\n",
       "8    Аахена       0\n",
       "9   Абабков       1"
      ]
     },
     "execution_count": 17,
     "metadata": {},
     "output_type": "execute_result"
    }
   ],
   "source": [
    "train_data = pd.read_csv('linear_train.txt', names = [\"words\", \"target\"])\n",
    "train_data.head(10)"
   ]
  },
  {
   "cell_type": "code",
   "execution_count": 18,
   "metadata": {
    "collapsed": false
   },
   "outputs": [
    {
     "data": {
      "text/plain": [
       "101408"
      ]
     },
     "execution_count": 18,
     "metadata": {},
     "output_type": "execute_result"
    }
   ],
   "source": [
    "len(train_data)"
   ]
  },
  {
   "cell_type": "markdown",
   "metadata": {},
   "source": [
    "Используем библиотеку nltk.stem для стемминга (нахождения основы) русских слов, чтобы избавиться от приставок, окончаний и всего лишнего."
   ]
  },
  {
   "cell_type": "code",
   "execution_count": 4,
   "metadata": {
    "collapsed": false
   },
   "outputs": [],
   "source": [
    "ps = RussianStemmer()\n",
    "train_data_old = train_data.copy()\n",
    "for i in range(len(train_data['words'])):\n",
    "    train_data.set_value(i, 'words', ps.stem(train_data['words'][i].decode('utf-8')))"
   ]
  },
  {
   "cell_type": "markdown",
   "metadata": {},
   "source": [
    "Очевидный недостаток стеммера -- это то, что он не сохраняет регистр, а в выборке присутствуют слова, для которых в зависимости от регистра разные ответы, например, \"Грач\" и \"грач\". Решим эту проблему просто: возьмем старый список слов (до стемминга) и заменим первую букву в каждом новом слове."
   ]
  },
  {
   "cell_type": "code",
   "execution_count": 5,
   "metadata": {
    "collapsed": false
   },
   "outputs": [],
   "source": [
    "# Try to keep case after stemming\n",
    "for i in range(len(train_data['words'])):\n",
    "    train_data.set_value(i, 'words', \n",
    "                         train_data_old['words'][i].decode('utf-8')[0] + \n",
    "                         train_data['words'][i][1:])"
   ]
  },
  {
   "cell_type": "code",
   "execution_count": 6,
   "metadata": {
    "collapsed": false
   },
   "outputs": [
    {
     "data": {
      "text/html": [
       "<div>\n",
       "<table border=\"1\" class=\"dataframe\">\n",
       "  <thead>\n",
       "    <tr style=\"text-align: right;\">\n",
       "      <th></th>\n",
       "      <th>words</th>\n",
       "      <th>target</th>\n",
       "    </tr>\n",
       "  </thead>\n",
       "  <tbody>\n",
       "    <tr>\n",
       "      <th>0</th>\n",
       "      <td>Аалтон</td>\n",
       "      <td>1</td>\n",
       "    </tr>\n",
       "    <tr>\n",
       "      <th>1</th>\n",
       "      <td>Аар</td>\n",
       "      <td>0</td>\n",
       "    </tr>\n",
       "    <tr>\n",
       "      <th>2</th>\n",
       "      <td>Аарон</td>\n",
       "      <td>0</td>\n",
       "    </tr>\n",
       "    <tr>\n",
       "      <th>3</th>\n",
       "      <td>Аарон</td>\n",
       "      <td>0</td>\n",
       "    </tr>\n",
       "    <tr>\n",
       "      <th>4</th>\n",
       "      <td>Аарон</td>\n",
       "      <td>0</td>\n",
       "    </tr>\n",
       "    <tr>\n",
       "      <th>5</th>\n",
       "      <td>Аарон</td>\n",
       "      <td>1</td>\n",
       "    </tr>\n",
       "    <tr>\n",
       "      <th>6</th>\n",
       "      <td>Аарон</td>\n",
       "      <td>0</td>\n",
       "    </tr>\n",
       "    <tr>\n",
       "      <th>7</th>\n",
       "      <td>Аарон</td>\n",
       "      <td>0</td>\n",
       "    </tr>\n",
       "    <tr>\n",
       "      <th>8</th>\n",
       "      <td>Аах</td>\n",
       "      <td>0</td>\n",
       "    </tr>\n",
       "    <tr>\n",
       "      <th>9</th>\n",
       "      <td>Абабк</td>\n",
       "      <td>1</td>\n",
       "    </tr>\n",
       "  </tbody>\n",
       "</table>\n",
       "</div>"
      ],
      "text/plain": [
       "    words  target\n",
       "0  Аалтон       1\n",
       "1     Аар       0\n",
       "2   Аарон       0\n",
       "3   Аарон       0\n",
       "4   Аарон       0\n",
       "5   Аарон       1\n",
       "6   Аарон       0\n",
       "7   Аарон       0\n",
       "8     Аах       0\n",
       "9   Абабк       1"
      ]
     },
     "execution_count": 6,
     "metadata": {},
     "output_type": "execute_result"
    }
   ],
   "source": [
    "train_data.head(10)"
   ]
  },
  {
   "cell_type": "markdown",
   "metadata": {},
   "source": [
    "После стемминга в выборке образовалось много дубликатов, это видно даже по первым 10 словам. Удалим эти дубликаты."
   ]
  },
  {
   "cell_type": "code",
   "execution_count": 7,
   "metadata": {
    "collapsed": false
   },
   "outputs": [],
   "source": [
    "# Drop duplicates\n",
    "train_data.sort_values(['words', 'target'])\n",
    "train_data.drop_duplicates(subset='words', inplace=True, keep='last')"
   ]
  },
  {
   "cell_type": "code",
   "execution_count": 8,
   "metadata": {
    "collapsed": false
   },
   "outputs": [
    {
     "data": {
      "text/html": [
       "<div>\n",
       "<table border=\"1\" class=\"dataframe\">\n",
       "  <thead>\n",
       "    <tr style=\"text-align: right;\">\n",
       "      <th></th>\n",
       "      <th>words</th>\n",
       "      <th>target</th>\n",
       "    </tr>\n",
       "  </thead>\n",
       "  <tbody>\n",
       "    <tr>\n",
       "      <th>0</th>\n",
       "      <td>Аалтон</td>\n",
       "      <td>1</td>\n",
       "    </tr>\n",
       "    <tr>\n",
       "      <th>1</th>\n",
       "      <td>Аар</td>\n",
       "      <td>0</td>\n",
       "    </tr>\n",
       "    <tr>\n",
       "      <th>7</th>\n",
       "      <td>Аарон</td>\n",
       "      <td>0</td>\n",
       "    </tr>\n",
       "    <tr>\n",
       "      <th>8</th>\n",
       "      <td>Аах</td>\n",
       "      <td>0</td>\n",
       "    </tr>\n",
       "    <tr>\n",
       "      <th>9</th>\n",
       "      <td>Абабк</td>\n",
       "      <td>1</td>\n",
       "    </tr>\n",
       "    <tr>\n",
       "      <th>12</th>\n",
       "      <td>абажур</td>\n",
       "      <td>0</td>\n",
       "    </tr>\n",
       "    <tr>\n",
       "      <th>13</th>\n",
       "      <td>Абажур</td>\n",
       "      <td>0</td>\n",
       "    </tr>\n",
       "    <tr>\n",
       "      <th>16</th>\n",
       "      <td>Абака</td>\n",
       "      <td>0</td>\n",
       "    </tr>\n",
       "    <tr>\n",
       "      <th>17</th>\n",
       "      <td>абак</td>\n",
       "      <td>0</td>\n",
       "    </tr>\n",
       "    <tr>\n",
       "      <th>18</th>\n",
       "      <td>Абакум</td>\n",
       "      <td>1</td>\n",
       "    </tr>\n",
       "  </tbody>\n",
       "</table>\n",
       "</div>"
      ],
      "text/plain": [
       "     words  target\n",
       "0   Аалтон       1\n",
       "1      Аар       0\n",
       "7    Аарон       0\n",
       "8      Аах       0\n",
       "9    Абабк       1\n",
       "12  абажур       0\n",
       "13  Абажур       0\n",
       "16   Абака       0\n",
       "17    абак       0\n",
       "18  Абакум       1"
      ]
     },
     "execution_count": 8,
     "metadata": {},
     "output_type": "execute_result"
    }
   ],
   "source": [
    "train_data.head(10)"
   ]
  },
  {
   "cell_type": "markdown",
   "metadata": {},
   "source": [
    "Читаем из файла тестовую выборку."
   ]
  },
  {
   "cell_type": "code",
   "execution_count": 19,
   "metadata": {
    "collapsed": false
   },
   "outputs": [
    {
     "data": {
      "text/html": [
       "<div>\n",
       "<table border=\"1\" class=\"dataframe\">\n",
       "  <thead>\n",
       "    <tr style=\"text-align: right;\">\n",
       "      <th></th>\n",
       "      <th>words</th>\n",
       "    </tr>\n",
       "  </thead>\n",
       "  <tbody>\n",
       "    <tr>\n",
       "      <th>0</th>\n",
       "      <td>Аалто</td>\n",
       "    </tr>\n",
       "    <tr>\n",
       "      <th>1</th>\n",
       "      <td>ААР</td>\n",
       "    </tr>\n",
       "    <tr>\n",
       "      <th>2</th>\n",
       "      <td>Аара</td>\n",
       "    </tr>\n",
       "    <tr>\n",
       "      <th>3</th>\n",
       "      <td>Ааре</td>\n",
       "    </tr>\n",
       "    <tr>\n",
       "      <th>4</th>\n",
       "      <td>Аарон</td>\n",
       "    </tr>\n",
       "    <tr>\n",
       "      <th>5</th>\n",
       "      <td>Аароне</td>\n",
       "    </tr>\n",
       "    <tr>\n",
       "      <th>6</th>\n",
       "      <td>Ааронов</td>\n",
       "    </tr>\n",
       "    <tr>\n",
       "      <th>7</th>\n",
       "      <td>Аароном</td>\n",
       "    </tr>\n",
       "    <tr>\n",
       "      <th>8</th>\n",
       "      <td>Аароном</td>\n",
       "    </tr>\n",
       "    <tr>\n",
       "      <th>9</th>\n",
       "      <td>Аарону</td>\n",
       "    </tr>\n",
       "  </tbody>\n",
       "</table>\n",
       "</div>"
      ],
      "text/plain": [
       "     words\n",
       "0    Аалто\n",
       "1      ААР\n",
       "2     Аара\n",
       "3     Ааре\n",
       "4    Аарон\n",
       "5   Аароне\n",
       "6  Ааронов\n",
       "7  Аароном\n",
       "8  Аароном\n",
       "9   Аарону"
      ]
     },
     "execution_count": 19,
     "metadata": {},
     "output_type": "execute_result"
    }
   ],
   "source": [
    "test_data = pd.read_csv('linear_test.txt', names = [\"words\"])\n",
    "test_data.head(10)"
   ]
  },
  {
   "cell_type": "code",
   "execution_count": 20,
   "metadata": {
    "collapsed": false
   },
   "outputs": [
    {
     "data": {
      "text/plain": [
       "188920"
      ]
     },
     "execution_count": 20,
     "metadata": {},
     "output_type": "execute_result"
    }
   ],
   "source": [
    "len(test_data)"
   ]
  },
  {
   "cell_type": "markdown",
   "metadata": {},
   "source": [
    "Опять же применяем к ней стеммер и пытаемся сохранить регистр слова."
   ]
  },
  {
   "cell_type": "code",
   "execution_count": 11,
   "metadata": {
    "collapsed": false
   },
   "outputs": [],
   "source": [
    "ps = RussianStemmer()\n",
    "test_data_old = test_data.copy()\n",
    "for i in range(len(test_data['words'])):\n",
    "    test_data.set_value(i, 'words', ps.stem(test_data['words'][i].decode('utf-8')))"
   ]
  },
  {
   "cell_type": "code",
   "execution_count": 12,
   "metadata": {
    "collapsed": true
   },
   "outputs": [],
   "source": [
    "# Try to keep case after stemming\n",
    "for i in range(len(test_data['words'])):\n",
    "    test_data.set_value(i, 'words', \n",
    "                         test_data_old['words'][i].decode('utf-8')[0] + \n",
    "                         test_data['words'][i][1:])"
   ]
  },
  {
   "cell_type": "code",
   "execution_count": 13,
   "metadata": {
    "collapsed": false
   },
   "outputs": [
    {
     "data": {
      "text/html": [
       "<div>\n",
       "<table border=\"1\" class=\"dataframe\">\n",
       "  <thead>\n",
       "    <tr style=\"text-align: right;\">\n",
       "      <th></th>\n",
       "      <th>words</th>\n",
       "    </tr>\n",
       "  </thead>\n",
       "  <tbody>\n",
       "    <tr>\n",
       "      <th>0</th>\n",
       "      <td>Аалт</td>\n",
       "    </tr>\n",
       "    <tr>\n",
       "      <th>1</th>\n",
       "      <td>Аар</td>\n",
       "    </tr>\n",
       "    <tr>\n",
       "      <th>2</th>\n",
       "      <td>Аар</td>\n",
       "    </tr>\n",
       "    <tr>\n",
       "      <th>3</th>\n",
       "      <td>Аар</td>\n",
       "    </tr>\n",
       "    <tr>\n",
       "      <th>4</th>\n",
       "      <td>Аарон</td>\n",
       "    </tr>\n",
       "    <tr>\n",
       "      <th>5</th>\n",
       "      <td>Аарон</td>\n",
       "    </tr>\n",
       "    <tr>\n",
       "      <th>6</th>\n",
       "      <td>Аарон</td>\n",
       "    </tr>\n",
       "    <tr>\n",
       "      <th>7</th>\n",
       "      <td>Аарон</td>\n",
       "    </tr>\n",
       "    <tr>\n",
       "      <th>8</th>\n",
       "      <td>Аарон</td>\n",
       "    </tr>\n",
       "    <tr>\n",
       "      <th>9</th>\n",
       "      <td>Аарон</td>\n",
       "    </tr>\n",
       "  </tbody>\n",
       "</table>\n",
       "</div>"
      ],
      "text/plain": [
       "   words\n",
       "0   Аалт\n",
       "1    Аар\n",
       "2    Аар\n",
       "3    Аар\n",
       "4  Аарон\n",
       "5  Аарон\n",
       "6  Аарон\n",
       "7  Аарон\n",
       "8  Аарон\n",
       "9  Аарон"
      ]
     },
     "execution_count": 13,
     "metadata": {},
     "output_type": "execute_result"
    }
   ],
   "source": [
    "test_data.head(10)"
   ]
  },
  {
   "cell_type": "markdown",
   "metadata": {},
   "source": [
    "Обучаем нашу тестовую выборку, применив последовательно vectorizer, transformer и обучив модель LogisticRegression."
   ]
  },
  {
   "cell_type": "code",
   "execution_count": 33,
   "metadata": {
    "collapsed": false
   },
   "outputs": [
    {
     "data": {
      "text/plain": [
       "Pipeline(steps=[('vectorizer', CountVectorizer(analyzer='char_wb', binary=True, decode_error=u'strict',\n",
       "        dtype=<type 'numpy.int64'>, encoding=u'utf-8', input=u'content',\n",
       "        lowercase=False, max_df=1.0, max_features=None, min_df=1,\n",
       "        ngram_range=(4, 11), preprocessor=None, stop_words=None,\n",
       " ...ty='l2', random_state=None, solver='liblinear', tol=0.0001,\n",
       "          verbose=0, warm_start=False))])"
      ]
     },
     "execution_count": 33,
     "metadata": {},
     "output_type": "execute_result"
    }
   ],
   "source": [
    "cv = CountVectorizer(min_df=1, ngram_range=(4, 11), analyzer='char_wb', binary=True, lowercase=False)\n",
    "classifier = LogisticRegression()\n",
    "pipeline = Pipeline([(\"vectorizer\", cv), \n",
    "                     (\"algo\", classifier)\n",
    "                    ])\n",
    "pipeline.fit(train_data.words, train_data.target)"
   ]
  },
  {
   "cell_type": "markdown",
   "metadata": {},
   "source": [
    "Оценим качество двумя способами: ROC-AUC и accuracy.\n",
    "\n",
    "Алгоритм прогонялся с разными наборами шагов преобразований данных, результат указан в комментариях."
   ]
  },
  {
   "cell_type": "code",
   "execution_count": 34,
   "metadata": {
    "collapsed": false
   },
   "outputs": [
    {
     "data": {
      "text/plain": [
       "0.80018925198676349"
      ]
     },
     "execution_count": 34,
     "metadata": {},
     "output_type": "execute_result"
    }
   ],
   "source": [
    "np.mean(cross_val_score(pipeline, train_data.words, train_data.target, scoring='roc_auc'))\n",
    "\n",
    "# 0.78095347831947004 - без всего\n",
    "# 0.79682813243404016 - трансформер, без всего, lowercase=True\n",
    "# 0.8092586099139063 - трансформер, без всего, lowercase=False\n",
    "\n",
    "# Остальное со стеммером\n",
    "# 0.73451051003839485 - трансформер, без keep case, без throw duplicates, lowercase=True\n",
    "# 0.75900031347493313 - трансформер, с keep case, без throw duplicates, lowercase=False\n",
    "# 0.77590498872723668 - трансформер, без keep case, с throw duplicates, lowercase=True\n",
    "# 0.79372519723884449 - трансформер, с keep case, с throw duplicates, lowercase=False"
   ]
  },
  {
   "cell_type": "code",
   "execution_count": 35,
   "metadata": {
    "collapsed": false
   },
   "outputs": [
    {
     "data": {
      "text/plain": [
       "0.89920916831982334"
      ]
     },
     "execution_count": 35,
     "metadata": {},
     "output_type": "execute_result"
    }
   ],
   "source": [
    "np.mean(cross_val_score(pipeline, train_data.words, train_data.target, scoring='accuracy'))\n",
    "\n",
    "# 0.88803660074307755 - без всего\n",
    "# 0.89394328765979747 - трансформер, без всего, lowercase=True\n",
    "# 0.9018223278967108 - трансформер, без всего, lowercase=False\n",
    "\n",
    "# Остальное со стеммером\n",
    "# 0.89416026272770333 - трансформер, без keep case, без throw duplicates, lowercase=True\n",
    "# 0.89738482917809836 - трансформер, с keep case, без throw duplicates, lowercase=False\n",
    "# 0.84249198001769798 - трансформер, без keep case, с throw duplicates, lowercase=True\n",
    "# 0.87934753020499612 - трансформер, с keep case, с throw duplicates, lowercase=False"
   ]
  },
  {
   "cell_type": "markdown",
   "metadata": {},
   "source": [
    "Никакие оптимизации, увы, не перебили самое простое решение."
   ]
  },
  {
   "cell_type": "markdown",
   "metadata": {},
   "source": [
    "Записываем результат в файл."
   ]
  },
  {
   "cell_type": "code",
   "execution_count": 36,
   "metadata": {
    "collapsed": false
   },
   "outputs": [],
   "source": [
    "matrix = cv.transform(test_data.words)"
   ]
  },
  {
   "cell_type": "code",
   "execution_count": 37,
   "metadata": {
    "collapsed": false
   },
   "outputs": [],
   "source": [
    "output = pd.read_csv('linear_ans_example.txt', sep=',', names=['Id', 'Answer'], header=0)\n",
    "output['Answer'] = 1 - classifier.predict_proba(matrix)\n",
    "output.index.rename('Id', inplace=True)\n",
    "output.to_csv('submission.csv', sep=',', index=False)"
   ]
  },
  {
   "cell_type": "markdown",
   "metadata": {},
   "source": [
    "Посмотрим на то, что получилось. Выглядит неплохо :)"
   ]
  },
  {
   "cell_type": "code",
   "execution_count": 26,
   "metadata": {
    "collapsed": false
   },
   "outputs": [
    {
     "name": "stdout",
     "output_type": "stream",
     "text": [
      "            Id    Answer         words\n",
      "Id                                    \n",
      "19          19  0.999362        Абаева\n",
      "20          20  0.999988       Абаевым\n",
      "41          41  0.999999     Абакумова\n",
      "43          43  0.999866     Абакумову\n",
      "44          44  1.000000    Абакумовым\n",
      "45          45  0.992087       Абалкин\n",
      "50          50  1.000000      Аббасова\n",
      "51          51  0.999982      Аббасову\n",
      "52          52  0.996252       Аббасом\n",
      "103        103  1.000000  Абдрахманова\n",
      "109        109  0.990432      Абдулина\n",
      "112        112  0.998595    Абдуллаева\n",
      "115        115  0.999966   Абдуллаевым\n",
      "116        116  0.999356     Абдуллина\n",
      "131        131  0.999839       Абелева\n",
      "132        132  0.999999      Абелевым\n",
      "179        179  0.999968       Абиевым\n",
      "197        197  0.994546        Абнера\n",
      "262        262  0.999926     Абрамкина\n",
      "264        264  1.000000      Абрамова\n",
      "270        270  0.998022   Абрамовичем\n",
      "273        273  0.999999     Абрамовой\n",
      "274        274  0.999968      Абрамову\n",
      "275        275  1.000000     Абрамовым\n",
      "279        279  0.999951      Абрамсом\n",
      "280        280  0.999951      Абрамсон\n",
      "281        281  1.000000    Абрамсоном\n",
      "282        282  0.999993     Абрамсону\n",
      "298        298  0.999998   Абрикосовой\n",
      "307        307  0.999999    Абросимова\n",
      "...        ...       ...           ...\n",
      "188087  188087  0.999984        Ющенко\n",
      "188145  188145  1.000000     Явлинский\n",
      "188146  188146  1.000000    Явлинского\n",
      "188164  188164  0.997130         Ягера\n",
      "188389  188389  0.998132      Якобсена\n",
      "188390  188390  0.998327      Якобсену\n",
      "188391  188391  0.999621       Якобсон\n",
      "188392  188392  0.999998      Якобсона\n",
      "188393  188393  1.000000     Якобсоном\n",
      "188394  188394  0.999998     Якобссона\n",
      "188398  188398  0.999999         Якова\n",
      "188403  188403  0.995968      Яковлева\n",
      "188407  188407  0.999379     Яковлевой\n",
      "188408  188408  0.999970     Яковлевым\n",
      "188433  188433  0.997741       Якунина\n",
      "188434  188434  0.999993      Якуниным\n",
      "188454  188454  0.999881      Якушевым\n",
      "188528  188528  0.999668        Янгера\n",
      "188529  188529  0.999872       Янгером\n",
      "188548  188548  1.000000     Янковская\n",
      "188549  188549  0.999559      Янковски\n",
      "188558  188558  0.995393        Янсена\n",
      "188560  188560  0.995489        Янсену\n",
      "188561  188561  0.999999        Янский\n",
      "188563  188563  1.000000       Янского\n",
      "188573  188573  0.998662    Януковичем\n",
      "188680  188680  0.999966        Яровой\n",
      "188681  188681  0.999999        Яровым\n",
      "188701  188701  0.999888      Ярошенко\n",
      "188789  188789  0.996719      ятаганов\n",
      "\n",
      "[7768 rows x 3 columns]\n"
     ]
    }
   ],
   "source": [
    "test_data = pd.read_csv('linear_test.txt', names = [\"words\"])\n",
    "output['words'] = test_data['words']\n",
    "\n",
    "print(output.loc[output['Answer'] > 0.99])"
   ]
  },
  {
   "cell_type": "code",
   "execution_count": null,
   "metadata": {
    "collapsed": true
   },
   "outputs": [],
   "source": []
  }
 ],
 "metadata": {
  "kernelspec": {
   "display_name": "Python 2",
   "language": "python",
   "name": "python2"
  },
  "language_info": {
   "codemirror_mode": {
    "name": "ipython",
    "version": 2
   },
   "file_extension": ".py",
   "mimetype": "text/x-python",
   "name": "python",
   "nbconvert_exporter": "python",
   "pygments_lexer": "ipython2",
   "version": "2.7.9"
  }
 },
 "nbformat": 4,
 "nbformat_minor": 0
}
